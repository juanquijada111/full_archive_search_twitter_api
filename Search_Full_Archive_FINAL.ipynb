{
 "cells": [
  {
   "cell_type": "code",
   "execution_count": null,
   "id": "4f2fb74a",
   "metadata": {},
   "outputs": [],
   "source": [
    "# Referenced from https://medium.com/@katia.ossetchkina57/absolute-beginners-guide-tweepy-and-the-twitter-apis-6070995efc63\n",
    "# Libraries needed.\n",
    "import os\n",
    "import tweepy\n",
    "import time\n",
    "import pandas as pd\n",
    "import json\n",
    "from datetime import datetime"
   ]
  },
  {
   "cell_type": "code",
   "execution_count": null,
   "id": "89625173",
   "metadata": {},
   "outputs": [],
   "source": [
    "#enter credentials\n",
    "consumer_api_key = '' ## enter your own consumer API key \n",
    "consumer_api_secret = ''## enter your own consumer API Secret "
   ]
  },
  {
   "cell_type": "code",
   "execution_count": null,
   "id": "99e33965",
   "metadata": {},
   "outputs": [],
   "source": [
    "callback_uri = 'oob' #This allows the passing of standard queries in requests.\n",
    "auth = tweepy.OAuthHandler(consumer_api_key,consumer_api_secret, callback_uri) #Creates a connection to Twitter \n",
    "redirect_url = auth.get_authorization_url() #Creates a secure link.\n",
    "print(redirect_url)"
   ]
  },
  {
   "cell_type": "code",
   "execution_count": null,
   "id": "f23a2f7b",
   "metadata": {},
   "outputs": [],
   "source": [
    "# 1. Click the above link once created.\n",
    "# 2. Authorize the app if you haven't already.\n",
    "# 3. After authorization you will be directed to a pin.\n",
    "    # Keep this pin for the next cell."
   ]
  },
  {
   "cell_type": "code",
   "execution_count": null,
   "id": "669d7e3f",
   "metadata": {},
   "outputs": [],
   "source": [
    "# Enter pin in the input below and press enter.\n",
    "user_pin = input('Provide your user pin from the link: ')\n",
    "user_pin"
   ]
  },
  {
   "cell_type": "code",
   "execution_count": null,
   "id": "eded9800",
   "metadata": {},
   "outputs": [],
   "source": [
    "#Twitter search operators documentation: https://developer.twitter.com/en/docs/twitter-api/premium/search-api/overview#AvailableOperators\n",
    "auth.get_access_token(user_pin) #Access token creation.\n",
    "api = tweepy.API(auth) #Initializing of the API endpoint through Tweepy."
   ]
  },
  {
   "cell_type": "code",
   "execution_count": null,
   "id": "6159b5b8",
   "metadata": {},
   "outputs": [],
   "source": [
    "returned_tweets=[]\n",
    "for pages in tweepy.Cursor(api.search_full_archive, \n",
    "                          label='dev', \n",
    "                          query = \" #purplereign has:images -is:retweet OR #gohuskies has:images -is:retweet OR #uwvwsu has:images -is:retweet OR #applecup has:images -is:retweet\" ,\n",
    "                          fromDate =201911290000,\n",
    "                          toDate =201911292359, \n",
    "                          maxResults =500).pages(2):\n",
    "    # page is a list of statuses\n",
    "   returned_tweets.extend(pages)"
   ]
  },
  {
   "cell_type": "code",
   "execution_count": null,
   "id": "ca7f1d61",
   "metadata": {
    "scrolled": false
   },
   "outputs": [],
   "source": [
    "# Creates a table of all the Images URL in the query \n",
    "\n",
    "MediaURL=[]\n",
    "\n",
    "for status in returned_tweets:\n",
    "    if 'media' in status.entities:\n",
    "        for image in status.entities['media']:\n",
    "            MediaURL.append(image['media_url'])\n",
    "    else: MediaURL.append('NA')\n",
    "   "
   ]
  },
  {
   "cell_type": "code",
   "execution_count": null,
   "id": "e6fe6132",
   "metadata": {},
   "outputs": [],
   "source": [
    "for info in returned_tweets[:700]:\n",
    "     print(\"ID: {}\".format(info.id))\n",
    "     print(info.created_at)\n",
    "     print(info.text)\n",
    "     print(info.source)\n",
    "     print(info.place)\n",
    "     print(info.user.screen_name)\n",
    "     print(info.user.id)\n",
    "     print(info.lang)\n",
    "     print(info.quote_count)\n",
    "     print(info.reply_count)\n",
    "     print(info.favorite_count)\n",
    "     print(info.entities)\n",
    "     print(\"\\n\")"
   ]
  },
  {
   "cell_type": "code",
   "execution_count": null,
   "id": "7c4ecc95",
   "metadata": {},
   "outputs": [],
   "source": [
    "# Create the data frame for our twitter data\n",
    "from pandas import DataFrame\n",
    "\n",
    "returned = [[ info.id, \n",
    "              info.created_at, \n",
    "              info.favorite_count, \n",
    "              info.retweet_count,\n",
    "              info.reply_count,\n",
    "              info.quote_count,\n",
    "              info.text.encode(\"utf-8\").decode(\"utf-8\"),\n",
    "              info.entities,\n",
    "              info.user.screen_name,\n",
    "              info.source,\n",
    "              info.place,\n",
    "              info.user.id,\n",
    "              info.lang] \n",
    "             for idx,info in enumerate(returned_tweets)]\n",
    "returned_df = DataFrame(returned,columns=[\"id\",\"created_at\",\"favorite_count\",\"retweet_count\", \"Reply_Count\",\"Quote Count\",\"text\", \"entities\",\"screen_name\",\"Source\",\"Place\",\"User ID\",\"Lang\"])\n",
    "returned_df.head()\n",
    "print(returned_df)\n"
   ]
  },
  {
   "cell_type": "code",
   "execution_count": null,
   "id": "eb2a93b7",
   "metadata": {},
   "outputs": [],
   "source": [
    "returned_df['MediaURL'] = MediaURL"
   ]
  },
  {
   "cell_type": "code",
   "execution_count": null,
   "id": "da2cafff",
   "metadata": {},
   "outputs": [],
   "source": [
    "returned_df.to_csv('Downloaded_tweets_Full_search.csv', index=False, header=True)"
   ]
  },
  {
   "cell_type": "code",
   "execution_count": null,
   "id": "7c90c913",
   "metadata": {},
   "outputs": [],
   "source": []
  }
 ],
 "metadata": {
  "kernelspec": {
   "display_name": "Python 3 (ipykernel)",
   "language": "python",
   "name": "python3"
  },
  "language_info": {
   "codemirror_mode": {
    "name": "ipython",
    "version": 3
   },
   "file_extension": ".py",
   "mimetype": "text/x-python",
   "name": "python",
   "nbconvert_exporter": "python",
   "pygments_lexer": "ipython3",
   "version": "3.7.7"
  }
 },
 "nbformat": 4,
 "nbformat_minor": 5
}
